{
 "cells": [
  {
   "cell_type": "markdown",
   "id": "architectural-universe",
   "metadata": {},
   "source": [
    "# Easy install - Torch para GPU/CPU\n",
    "\n",
    "1. Primeiro instale o jupyter.\n",
    "- `conda install -y jupyter`\n",
    "\n",
    "2. Crie o ambiente\n",
    "- `conda create --name torch python=3.7`\n",
    "\n",
    "3. Ative o ambiente\n",
    "- `conda activate torch`\n",
    "\n",
    "4. Com o ambiente ativado instale o nb_conda\n",
    "- `conda install nb_conda`\n",
    "\n",
    "\n",
    "## PyTorch apenas para CPU:\n",
    "`conda install pytorch -c pytorch`\n",
    "\n",
    "## PyTorch para GPU e CPU:\n",
    "`conda install pytorch cudatoolkit -c pytorch`\n",
    "\n",
    "## Instalando pacotes adicionais (Opcional)\n",
    "`conda env update --file packages.yml`\n",
    "packages.yml está localizado nessa pasta\n",
    "\n",
    "## Registrando o ambiente\n",
    "\n",
    "`python -m ipykernel install --user --name pytorch --display-name \"Python 3.7 (pytorch)\"`\n",
    "\n",
    "## Testando o ambiente\n",
    "`jupyter notebook`"
   ]
  },
  {
   "cell_type": "code",
   "execution_count": 3,
   "id": "better-husband",
   "metadata": {},
   "outputs": [
    {
     "name": "stdout",
     "output_type": "stream",
     "text": [
      "PyTorch Version: 1.7.1\n",
      "\n",
      "Python 3.7.9 (default, Aug 31 2020, 12:42:55) \n",
      "[GCC 7.3.0]\n",
      "GPU is available\n"
     ]
    }
   ],
   "source": [
    "import sys\n",
    "import torch\n",
    "\n",
    "print(f\"PyTorch Version: {torch.__version__}\")\n",
    "print()\n",
    "print(f\"Python {sys.version}\")\n",
    "print(\"GPU is\", \"available\" if torch.cuda.is_available() else \"NOT AVAILABLE\")"
   ]
  }
 ],
 "metadata": {
  "kernelspec": {
   "display_name": "Python 3.7 (pytorch)",
   "language": "python",
   "name": "pytorch"
  },
  "language_info": {
   "codemirror_mode": {
    "name": "ipython",
    "version": 3
   },
   "file_extension": ".py",
   "mimetype": "text/x-python",
   "name": "python",
   "nbconvert_exporter": "python",
   "pygments_lexer": "ipython3",
   "version": "3.7.9"
  }
 },
 "nbformat": 4,
 "nbformat_minor": 5
}

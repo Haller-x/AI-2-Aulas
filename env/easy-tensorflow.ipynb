{
 "cells": [
  {
   "cell_type": "markdown",
   "id": "cardiovascular-release",
   "metadata": {},
   "source": [
    "# Easy install - TensorFlow para GPU/CPU\n",
    "\n",
    "1. Primeiro instale o jupyter.\n",
    "- `conda install -y jupyter`\n",
    "\n",
    "2. Crie o ambiente\n",
    "- `conda create --name tensorflow python=3.7`\n",
    "\n",
    "3. Ative o ambiente\n",
    "- `conda activate tensorflow`\n",
    "\n",
    "4. Com o ambiente ativado instale o nb_conda\n",
    "- `conda install nb_conda`\n",
    "\n",
    "\n",
    "## TensorFlow apenas para CPU:\n",
    "`conda install -c anaconda tensorflow`\n",
    "\n",
    "## TensorFlow para GPU e CPU:\n",
    "`conda install -c anaconda tensorflow-gpu`\n",
    "\n",
    "## Instalando pacotes adicionais (Opcional)\n",
    "`conda env update --file packages.yml`\n",
    "\n",
    "**OBS: packages.yml está localizado nessa pasta**\n",
    "\n",
    "## Registrando o ambiente\n",
    "\n",
    "`python -m ipykernel install --user --name tensorflow --display-name \"Python 3.7 (tensorflow)\"`\n",
    "\n",
    "## Testando o ambiente\n",
    "`jupyter notebook`"
   ]
  },
  {
   "cell_type": "code",
   "execution_count": 1,
   "id": "empty-dairy",
   "metadata": {},
   "outputs": [
    {
     "name": "stdout",
     "output_type": "stream",
     "text": [
      "Tensor Flow Version: 2.2.0\n",
      "Keras Version: 2.3.0-tf\n",
      "\n",
      "GPU is available\n"
     ]
    }
   ],
   "source": [
    "import sys\n",
    "import tensorflow.keras\n",
    "import tensorflow as tf\n",
    "\n",
    "print(f\"Tensor Flow Version: {tf.__version__}\")\n",
    "print(f\"Keras Version: {tensorflow.keras.__version__}\")\n",
    "print()\n",
    "gpu = len(tf.config.list_physical_devices('GPU'))>0\n",
    "print(\"GPU is\", \"available\" if gpu else \"NOT AVAILABLE\")"
   ]
  },
  {
   "cell_type": "code",
   "execution_count": null,
   "id": "expired-parade",
   "metadata": {},
   "outputs": [],
   "source": []
  }
 ],
 "metadata": {
  "kernelspec": {
   "display_name": "Python 3.7 (tensorflow)",
   "language": "python",
   "name": "tensorflow"
  },
  "language_info": {
   "codemirror_mode": {
    "name": "ipython",
    "version": 3
   },
   "file_extension": ".py",
   "mimetype": "text/x-python",
   "name": "python",
   "nbconvert_exporter": "python",
   "pygments_lexer": "ipython3",
   "version": "3.7.9"
  }
 },
 "nbformat": 4,
 "nbformat_minor": 5
}
